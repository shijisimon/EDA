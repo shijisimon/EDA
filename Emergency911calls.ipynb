{
  "nbformat": 4,
  "nbformat_minor": 0,
  "metadata": {
    "colab": {
      "provenance": [],
      "authorship_tag": "ABX9TyOPUyHM3guj4L5d9j9IOe4O",
      "include_colab_link": true
    },
    "kernelspec": {
      "name": "python3",
      "display_name": "Python 3"
    },
    "language_info": {
      "name": "python"
    }
  },
  "cells": [
    {
      "cell_type": "markdown",
      "metadata": {
        "id": "view-in-github",
        "colab_type": "text"
      },
      "source": [
        "<a href=\"https://colab.research.google.com/github/shijisimon/EDA/blob/main/Emergency911calls.ipynb\" target=\"_parent\"><img src=\"https://colab.research.google.com/assets/colab-badge.svg\" alt=\"Open In Colab\"/></a>"
      ]
    },
    {
      "cell_type": "code",
      "execution_count": 5,
      "metadata": {
        "colab": {
          "base_uri": "https://localhost:8080/",
          "height": 814
        },
        "id": "aDTIGbuoB_eT",
        "outputId": "d1bd90e9-a516-4b7f-e2c2-299a4209b59e"
      },
      "outputs": [
        {
          "output_type": "execute_result",
          "data": {
            "text/plain": [
              "              lat        lng  \\\n",
              "0       40.297876 -75.581294   \n",
              "1       40.258061 -75.264680   \n",
              "2       40.121182 -75.351975   \n",
              "3       40.116153 -75.343513   \n",
              "4       40.251492 -75.603350   \n",
              "...           ...        ...   \n",
              "663517  40.157956 -75.348060   \n",
              "663518  40.136306 -75.428697   \n",
              "663519  40.013779 -75.300835   \n",
              "663520  40.121603 -75.351437   \n",
              "663521  40.015046 -75.299674   \n",
              "\n",
              "                                                     desc      zip  \\\n",
              "0       REINDEER CT & DEAD END;  NEW HANOVER; Station ...  19525.0   \n",
              "1       BRIAR PATH & WHITEMARSH LN;  HATFIELD TOWNSHIP...  19446.0   \n",
              "2       HAWS AVE; NORRISTOWN; 2015-12-10 @ 14:39:21-St...  19401.0   \n",
              "3       AIRY ST & SWEDE ST;  NORRISTOWN; Station 308A;...  19401.0   \n",
              "4       CHERRYWOOD CT & DEAD END;  LOWER POTTSGROVE; S...      NaN   \n",
              "...                                                   ...      ...   \n",
              "663517  SUNSET AVE & WOODLAND AVE; EAST NORRITON; 2020...  19403.0   \n",
              "663518  EAGLEVILLE RD & BUNTING CIR;  LOWER PROVIDENCE...  19403.0   \n",
              "663519  HAVERFORD STATION RD;  LOWER MERION; Station 3...  19041.0   \n",
              "663520  MARSHALL ST & HAWS AVE; NORRISTOWN; 2020-07-29...  19401.0   \n",
              "663521  HAVERFORD STATION RD & W MONTGOMERY AVE; LOWER...  19041.0   \n",
              "\n",
              "                              title            timeStamp                twp  \\\n",
              "0            EMS: BACK PAINS/INJURY  2015-12-10 17:10:52        NEW HANOVER   \n",
              "1           EMS: DIABETIC EMERGENCY  2015-12-10 17:29:21  HATFIELD TOWNSHIP   \n",
              "2               Fire: GAS-ODOR/LEAK  2015-12-10 14:39:21         NORRISTOWN   \n",
              "3            EMS: CARDIAC EMERGENCY  2015-12-10 16:47:36         NORRISTOWN   \n",
              "4                    EMS: DIZZINESS  2015-12-10 16:56:52   LOWER POTTSGROVE   \n",
              "...                             ...                  ...                ...   \n",
              "663517  Traffic: VEHICLE ACCIDENT -  2020-07-29 15:46:51      EAST NORRITON   \n",
              "663518        EMS: GENERAL WEAKNESS  2020-07-29 15:52:19   LOWER PROVIDENCE   \n",
              "663519        EMS: VEHICLE ACCIDENT  2020-07-29 15:52:52       LOWER MERION   \n",
              "663520          Fire: BUILDING FIRE  2020-07-29 15:54:08         NORRISTOWN   \n",
              "663521  Traffic: VEHICLE ACCIDENT -  2020-07-29 15:52:46       LOWER MERION   \n",
              "\n",
              "                                           addr  e  \n",
              "0                        REINDEER CT & DEAD END  1  \n",
              "1                    BRIAR PATH & WHITEMARSH LN  1  \n",
              "2                                      HAWS AVE  1  \n",
              "3                            AIRY ST & SWEDE ST  1  \n",
              "4                      CHERRYWOOD CT & DEAD END  1  \n",
              "...                                         ... ..  \n",
              "663517                SUNSET AVE & WOODLAND AVE  1  \n",
              "663518              EAGLEVILLE RD & BUNTING CIR  1  \n",
              "663519                     HAVERFORD STATION RD  1  \n",
              "663520                   MARSHALL ST & HAWS AVE  1  \n",
              "663521  HAVERFORD STATION RD & W MONTGOMERY AVE  1  \n",
              "\n",
              "[663522 rows x 9 columns]"
            ],
            "text/html": [
              "\n",
              "  <div id=\"df-3119c6dc-3ea1-4205-9ded-78126cd4e3bc\">\n",
              "    <div class=\"colab-df-container\">\n",
              "      <div>\n",
              "<style scoped>\n",
              "    .dataframe tbody tr th:only-of-type {\n",
              "        vertical-align: middle;\n",
              "    }\n",
              "\n",
              "    .dataframe tbody tr th {\n",
              "        vertical-align: top;\n",
              "    }\n",
              "\n",
              "    .dataframe thead th {\n",
              "        text-align: right;\n",
              "    }\n",
              "</style>\n",
              "<table border=\"1\" class=\"dataframe\">\n",
              "  <thead>\n",
              "    <tr style=\"text-align: right;\">\n",
              "      <th></th>\n",
              "      <th>lat</th>\n",
              "      <th>lng</th>\n",
              "      <th>desc</th>\n",
              "      <th>zip</th>\n",
              "      <th>title</th>\n",
              "      <th>timeStamp</th>\n",
              "      <th>twp</th>\n",
              "      <th>addr</th>\n",
              "      <th>e</th>\n",
              "    </tr>\n",
              "  </thead>\n",
              "  <tbody>\n",
              "    <tr>\n",
              "      <th>0</th>\n",
              "      <td>40.297876</td>\n",
              "      <td>-75.581294</td>\n",
              "      <td>REINDEER CT &amp; DEAD END;  NEW HANOVER; Station ...</td>\n",
              "      <td>19525.0</td>\n",
              "      <td>EMS: BACK PAINS/INJURY</td>\n",
              "      <td>2015-12-10 17:10:52</td>\n",
              "      <td>NEW HANOVER</td>\n",
              "      <td>REINDEER CT &amp; DEAD END</td>\n",
              "      <td>1</td>\n",
              "    </tr>\n",
              "    <tr>\n",
              "      <th>1</th>\n",
              "      <td>40.258061</td>\n",
              "      <td>-75.264680</td>\n",
              "      <td>BRIAR PATH &amp; WHITEMARSH LN;  HATFIELD TOWNSHIP...</td>\n",
              "      <td>19446.0</td>\n",
              "      <td>EMS: DIABETIC EMERGENCY</td>\n",
              "      <td>2015-12-10 17:29:21</td>\n",
              "      <td>HATFIELD TOWNSHIP</td>\n",
              "      <td>BRIAR PATH &amp; WHITEMARSH LN</td>\n",
              "      <td>1</td>\n",
              "    </tr>\n",
              "    <tr>\n",
              "      <th>2</th>\n",
              "      <td>40.121182</td>\n",
              "      <td>-75.351975</td>\n",
              "      <td>HAWS AVE; NORRISTOWN; 2015-12-10 @ 14:39:21-St...</td>\n",
              "      <td>19401.0</td>\n",
              "      <td>Fire: GAS-ODOR/LEAK</td>\n",
              "      <td>2015-12-10 14:39:21</td>\n",
              "      <td>NORRISTOWN</td>\n",
              "      <td>HAWS AVE</td>\n",
              "      <td>1</td>\n",
              "    </tr>\n",
              "    <tr>\n",
              "      <th>3</th>\n",
              "      <td>40.116153</td>\n",
              "      <td>-75.343513</td>\n",
              "      <td>AIRY ST &amp; SWEDE ST;  NORRISTOWN; Station 308A;...</td>\n",
              "      <td>19401.0</td>\n",
              "      <td>EMS: CARDIAC EMERGENCY</td>\n",
              "      <td>2015-12-10 16:47:36</td>\n",
              "      <td>NORRISTOWN</td>\n",
              "      <td>AIRY ST &amp; SWEDE ST</td>\n",
              "      <td>1</td>\n",
              "    </tr>\n",
              "    <tr>\n",
              "      <th>4</th>\n",
              "      <td>40.251492</td>\n",
              "      <td>-75.603350</td>\n",
              "      <td>CHERRYWOOD CT &amp; DEAD END;  LOWER POTTSGROVE; S...</td>\n",
              "      <td>NaN</td>\n",
              "      <td>EMS: DIZZINESS</td>\n",
              "      <td>2015-12-10 16:56:52</td>\n",
              "      <td>LOWER POTTSGROVE</td>\n",
              "      <td>CHERRYWOOD CT &amp; DEAD END</td>\n",
              "      <td>1</td>\n",
              "    </tr>\n",
              "    <tr>\n",
              "      <th>...</th>\n",
              "      <td>...</td>\n",
              "      <td>...</td>\n",
              "      <td>...</td>\n",
              "      <td>...</td>\n",
              "      <td>...</td>\n",
              "      <td>...</td>\n",
              "      <td>...</td>\n",
              "      <td>...</td>\n",
              "      <td>...</td>\n",
              "    </tr>\n",
              "    <tr>\n",
              "      <th>663517</th>\n",
              "      <td>40.157956</td>\n",
              "      <td>-75.348060</td>\n",
              "      <td>SUNSET AVE &amp; WOODLAND AVE; EAST NORRITON; 2020...</td>\n",
              "      <td>19403.0</td>\n",
              "      <td>Traffic: VEHICLE ACCIDENT -</td>\n",
              "      <td>2020-07-29 15:46:51</td>\n",
              "      <td>EAST NORRITON</td>\n",
              "      <td>SUNSET AVE &amp; WOODLAND AVE</td>\n",
              "      <td>1</td>\n",
              "    </tr>\n",
              "    <tr>\n",
              "      <th>663518</th>\n",
              "      <td>40.136306</td>\n",
              "      <td>-75.428697</td>\n",
              "      <td>EAGLEVILLE RD &amp; BUNTING CIR;  LOWER PROVIDENCE...</td>\n",
              "      <td>19403.0</td>\n",
              "      <td>EMS: GENERAL WEAKNESS</td>\n",
              "      <td>2020-07-29 15:52:19</td>\n",
              "      <td>LOWER PROVIDENCE</td>\n",
              "      <td>EAGLEVILLE RD &amp; BUNTING CIR</td>\n",
              "      <td>1</td>\n",
              "    </tr>\n",
              "    <tr>\n",
              "      <th>663519</th>\n",
              "      <td>40.013779</td>\n",
              "      <td>-75.300835</td>\n",
              "      <td>HAVERFORD STATION RD;  LOWER MERION; Station 3...</td>\n",
              "      <td>19041.0</td>\n",
              "      <td>EMS: VEHICLE ACCIDENT</td>\n",
              "      <td>2020-07-29 15:52:52</td>\n",
              "      <td>LOWER MERION</td>\n",
              "      <td>HAVERFORD STATION RD</td>\n",
              "      <td>1</td>\n",
              "    </tr>\n",
              "    <tr>\n",
              "      <th>663520</th>\n",
              "      <td>40.121603</td>\n",
              "      <td>-75.351437</td>\n",
              "      <td>MARSHALL ST &amp; HAWS AVE; NORRISTOWN; 2020-07-29...</td>\n",
              "      <td>19401.0</td>\n",
              "      <td>Fire: BUILDING FIRE</td>\n",
              "      <td>2020-07-29 15:54:08</td>\n",
              "      <td>NORRISTOWN</td>\n",
              "      <td>MARSHALL ST &amp; HAWS AVE</td>\n",
              "      <td>1</td>\n",
              "    </tr>\n",
              "    <tr>\n",
              "      <th>663521</th>\n",
              "      <td>40.015046</td>\n",
              "      <td>-75.299674</td>\n",
              "      <td>HAVERFORD STATION RD &amp; W MONTGOMERY AVE; LOWER...</td>\n",
              "      <td>19041.0</td>\n",
              "      <td>Traffic: VEHICLE ACCIDENT -</td>\n",
              "      <td>2020-07-29 15:52:46</td>\n",
              "      <td>LOWER MERION</td>\n",
              "      <td>HAVERFORD STATION RD &amp; W MONTGOMERY AVE</td>\n",
              "      <td>1</td>\n",
              "    </tr>\n",
              "  </tbody>\n",
              "</table>\n",
              "<p>663522 rows × 9 columns</p>\n",
              "</div>\n",
              "      <button class=\"colab-df-convert\" onclick=\"convertToInteractive('df-3119c6dc-3ea1-4205-9ded-78126cd4e3bc')\"\n",
              "              title=\"Convert this dataframe to an interactive table.\"\n",
              "              style=\"display:none;\">\n",
              "        \n",
              "  <svg xmlns=\"http://www.w3.org/2000/svg\" height=\"24px\"viewBox=\"0 0 24 24\"\n",
              "       width=\"24px\">\n",
              "    <path d=\"M0 0h24v24H0V0z\" fill=\"none\"/>\n",
              "    <path d=\"M18.56 5.44l.94 2.06.94-2.06 2.06-.94-2.06-.94-.94-2.06-.94 2.06-2.06.94zm-11 1L8.5 8.5l.94-2.06 2.06-.94-2.06-.94L8.5 2.5l-.94 2.06-2.06.94zm10 10l.94 2.06.94-2.06 2.06-.94-2.06-.94-.94-2.06-.94 2.06-2.06.94z\"/><path d=\"M17.41 7.96l-1.37-1.37c-.4-.4-.92-.59-1.43-.59-.52 0-1.04.2-1.43.59L10.3 9.45l-7.72 7.72c-.78.78-.78 2.05 0 2.83L4 21.41c.39.39.9.59 1.41.59.51 0 1.02-.2 1.41-.59l7.78-7.78 2.81-2.81c.8-.78.8-2.07 0-2.86zM5.41 20L4 18.59l7.72-7.72 1.47 1.35L5.41 20z\"/>\n",
              "  </svg>\n",
              "      </button>\n",
              "      \n",
              "  <style>\n",
              "    .colab-df-container {\n",
              "      display:flex;\n",
              "      flex-wrap:wrap;\n",
              "      gap: 12px;\n",
              "    }\n",
              "\n",
              "    .colab-df-convert {\n",
              "      background-color: #E8F0FE;\n",
              "      border: none;\n",
              "      border-radius: 50%;\n",
              "      cursor: pointer;\n",
              "      display: none;\n",
              "      fill: #1967D2;\n",
              "      height: 32px;\n",
              "      padding: 0 0 0 0;\n",
              "      width: 32px;\n",
              "    }\n",
              "\n",
              "    .colab-df-convert:hover {\n",
              "      background-color: #E2EBFA;\n",
              "      box-shadow: 0px 1px 2px rgba(60, 64, 67, 0.3), 0px 1px 3px 1px rgba(60, 64, 67, 0.15);\n",
              "      fill: #174EA6;\n",
              "    }\n",
              "\n",
              "    [theme=dark] .colab-df-convert {\n",
              "      background-color: #3B4455;\n",
              "      fill: #D2E3FC;\n",
              "    }\n",
              "\n",
              "    [theme=dark] .colab-df-convert:hover {\n",
              "      background-color: #434B5C;\n",
              "      box-shadow: 0px 1px 3px 1px rgba(0, 0, 0, 0.15);\n",
              "      filter: drop-shadow(0px 1px 2px rgba(0, 0, 0, 0.3));\n",
              "      fill: #FFFFFF;\n",
              "    }\n",
              "  </style>\n",
              "\n",
              "      <script>\n",
              "        const buttonEl =\n",
              "          document.querySelector('#df-3119c6dc-3ea1-4205-9ded-78126cd4e3bc button.colab-df-convert');\n",
              "        buttonEl.style.display =\n",
              "          google.colab.kernel.accessAllowed ? 'block' : 'none';\n",
              "\n",
              "        async function convertToInteractive(key) {\n",
              "          const element = document.querySelector('#df-3119c6dc-3ea1-4205-9ded-78126cd4e3bc');\n",
              "          const dataTable =\n",
              "            await google.colab.kernel.invokeFunction('convertToInteractive',\n",
              "                                                     [key], {});\n",
              "          if (!dataTable) return;\n",
              "\n",
              "          const docLinkHtml = 'Like what you see? Visit the ' +\n",
              "            '<a target=\"_blank\" href=https://colab.research.google.com/notebooks/data_table.ipynb>data table notebook</a>'\n",
              "            + ' to learn more about interactive tables.';\n",
              "          element.innerHTML = '';\n",
              "          dataTable['output_type'] = 'display_data';\n",
              "          await google.colab.output.renderOutput(dataTable, element);\n",
              "          const docLink = document.createElement('div');\n",
              "          docLink.innerHTML = docLinkHtml;\n",
              "          element.appendChild(docLink);\n",
              "        }\n",
              "      </script>\n",
              "    </div>\n",
              "  </div>\n",
              "  "
            ]
          },
          "metadata": {},
          "execution_count": 5
        }
      ],
      "source": [
        "import numpy as np\n",
        "import pandas as pd\n",
        "import matplotlib.pyplot as plt\n",
        "import seaborn as sns\n",
        "%matplotlib inline\n",
        "df=pd.read_csv('/content/911.csv.zip')\n",
        "df"
      ]
    },
    {
      "cell_type": "code",
      "source": [
        "df.info()"
      ],
      "metadata": {
        "colab": {
          "base_uri": "https://localhost:8080/"
        },
        "id": "Drj4Y8IZDgkV",
        "outputId": "333a2328-89bb-45d0-c7ad-47b4dc6c5598"
      },
      "execution_count": 6,
      "outputs": [
        {
          "output_type": "stream",
          "name": "stdout",
          "text": [
            "<class 'pandas.core.frame.DataFrame'>\n",
            "RangeIndex: 663522 entries, 0 to 663521\n",
            "Data columns (total 9 columns):\n",
            " #   Column     Non-Null Count   Dtype  \n",
            "---  ------     --------------   -----  \n",
            " 0   lat        663522 non-null  float64\n",
            " 1   lng        663522 non-null  float64\n",
            " 2   desc       663522 non-null  object \n",
            " 3   zip        583323 non-null  float64\n",
            " 4   title      663522 non-null  object \n",
            " 5   timeStamp  663522 non-null  object \n",
            " 6   twp        663229 non-null  object \n",
            " 7   addr       663522 non-null  object \n",
            " 8   e          663522 non-null  int64  \n",
            "dtypes: float64(3), int64(1), object(5)\n",
            "memory usage: 45.6+ MB\n"
          ]
        }
      ]
    },
    {
      "cell_type": "code",
      "source": [
        "df.shape"
      ],
      "metadata": {
        "colab": {
          "base_uri": "https://localhost:8080/"
        },
        "id": "Vl6Mjik5DuD_",
        "outputId": "d091766e-630d-4084-a391-f8849f9b2b3d"
      },
      "execution_count": 8,
      "outputs": [
        {
          "output_type": "execute_result",
          "data": {
            "text/plain": [
              "(663522, 9)"
            ]
          },
          "metadata": {},
          "execution_count": 8
        }
      ]
    },
    {
      "cell_type": "code",
      "source": [
        "#What are the top 5 townships (twp) for 911 calls?\n",
        "\n",
        "df['twp'].value_counts().head()"
      ],
      "metadata": {
        "colab": {
          "base_uri": "https://localhost:8080/"
        },
        "id": "f2DJABXfDgnr",
        "outputId": "d97d77a4-dcac-4524-94de-dde8c877e506"
      },
      "execution_count": 7,
      "outputs": [
        {
          "output_type": "execute_result",
          "data": {
            "text/plain": [
              "LOWER MERION    55490\n",
              "ABINGTON        39947\n",
              "NORRISTOWN      37633\n",
              "UPPER MERION    36010\n",
              "CHELTENHAM      30574\n",
              "Name: twp, dtype: int64"
            ]
          },
          "metadata": {},
          "execution_count": 7
        }
      ]
    },
    {
      "cell_type": "code",
      "source": [
        "df['title'].nunique()"
      ],
      "metadata": {
        "colab": {
          "base_uri": "https://localhost:8080/"
        },
        "id": "62NEiJfLDgqa",
        "outputId": "4b68ba98-ea06-4a0a-a4e5-539e64cc239f"
      },
      "execution_count": 10,
      "outputs": [
        {
          "output_type": "execute_result",
          "data": {
            "text/plain": [
              "148"
            ]
          },
          "metadata": {},
          "execution_count": 10
        }
      ]
    },
    {
      "cell_type": "code",
      "source": [
        "x = df['title'].iloc[0]\n",
        "x.split(':')[0]\n",
        "#creating new feature"
      ],
      "metadata": {
        "colab": {
          "base_uri": "https://localhost:8080/",
          "height": 36
        },
        "id": "zZGkBvtODgts",
        "outputId": "37ce9d85-1872-4a76-e646-2beaa270b1cf"
      },
      "execution_count": 11,
      "outputs": [
        {
          "output_type": "execute_result",
          "data": {
            "text/plain": [
              "'EMS'"
            ],
            "application/vnd.google.colaboratory.intrinsic+json": {
              "type": "string"
            }
          },
          "metadata": {},
          "execution_count": 11
        }
      ]
    },
    {
      "cell_type": "code",
      "source": [
        "df['reason'] = df['title'].apply(lambda title: title.split(':')[0])\n",
        "df['reason']"
      ],
      "metadata": {
        "colab": {
          "base_uri": "https://localhost:8080/"
        },
        "id": "rvry-a12EHnD",
        "outputId": "76aa6a0f-0f9c-4af2-d35b-ee026dac3303"
      },
      "execution_count": 12,
      "outputs": [
        {
          "output_type": "execute_result",
          "data": {
            "text/plain": [
              "0             EMS\n",
              "1             EMS\n",
              "2            Fire\n",
              "3             EMS\n",
              "4             EMS\n",
              "           ...   \n",
              "663517    Traffic\n",
              "663518        EMS\n",
              "663519        EMS\n",
              "663520       Fire\n",
              "663521    Traffic\n",
              "Name: reason, Length: 663522, dtype: object"
            ]
          },
          "metadata": {},
          "execution_count": 12
        }
      ]
    },
    {
      "cell_type": "code",
      "source": [
        "df['reason'].value_counts()"
      ],
      "metadata": {
        "colab": {
          "base_uri": "https://localhost:8080/"
        },
        "id": "siD03RANEHqr",
        "outputId": "526c394a-7545-4aa3-a56a-891fe0d5cb0e"
      },
      "execution_count": 13,
      "outputs": [
        {
          "output_type": "execute_result",
          "data": {
            "text/plain": [
              "EMS        332692\n",
              "Traffic    230208\n",
              "Fire       100622\n",
              "Name: reason, dtype: int64"
            ]
          },
          "metadata": {},
          "execution_count": 13
        }
      ]
    },
    {
      "cell_type": "code",
      "source": [
        "#Now use seaborn to create a countplot of 911 calls by Reason.\n",
        "\n",
        "sns.countplot(x='reason', data=df, palette='viridis')"
      ],
      "metadata": {
        "colab": {
          "base_uri": "https://localhost:8080/",
          "height": 467
        },
        "id": "7XBeBAS_EWUd",
        "outputId": "60ccd14a-a4f6-43af-e404-db228ea5a8f0"
      },
      "execution_count": 14,
      "outputs": [
        {
          "output_type": "execute_result",
          "data": {
            "text/plain": [
              "<Axes: xlabel='reason', ylabel='count'>"
            ]
          },
          "metadata": {},
          "execution_count": 14
        },
        {
          "output_type": "display_data",
          "data": {
            "text/plain": [
              "<Figure size 640x480 with 1 Axes>"
            ],
            "image/png": "[encoded data removed]"
          },
          "metadata": {}
        }
      ]
    },
    {
      "cell_type": "code",
      "source": [
        "df['timeStamp'].iloc[0]"
      ],
      "metadata": {
        "colab": {
          "base_uri": "https://localhost:8080/",
          "height": 36
        },
        "id": "-wwawh0jEWX7",
        "outputId": "275eb566-15ae-4654-c5c2-1c14a2c57e60"
      },
      "execution_count": 15,
      "outputs": [
        {
          "output_type": "execute_result",
          "data": {
            "text/plain": [
              "'2015-12-10 17:10:52'"
            ],
            "application/vnd.google.colaboratory.intrinsic+json": {
              "type": "string"
            }
          },
          "metadata": {},
          "execution_count": 15
        }
      ]
    },
    {
      "cell_type": "code",
      "source": [
        "type(df['timeStamp'].iloc[0])"
      ],
      "metadata": {
        "colab": {
          "base_uri": "https://localhost:8080/"
        },
        "id": "EkKmu4oTEWcH",
        "outputId": "bab95a8c-fc16-45cd-eae8-fb2e5151c11b"
      },
      "execution_count": 16,
      "outputs": [
        {
          "output_type": "execute_result",
          "data": {
            "text/plain": [
              "str"
            ]
          },
          "metadata": {},
          "execution_count": 16
        }
      ]
    },
    {
      "cell_type": "code",
      "source": [
        "# Use pd.to_datetime to convert the column from strings to DateTime objects.\n",
        "\n",
        "df['timeStamp']=pd.to_datetime(df['timeStamp'])\n",
        "time = df['timeStamp'].iloc[2]\n",
        "time.hour"
      ],
      "metadata": {
        "colab": {
          "base_uri": "https://localhost:8080/"
        },
        "id": "GdorzpFkEWfy",
        "outputId": "898c4b2b-00de-494f-f774-29338b5bc45d"
      },
      "execution_count": 17,
      "outputs": [
        {
          "output_type": "execute_result",
          "data": {
            "text/plain": [
              "14"
            ]
          },
          "metadata": {},
          "execution_count": 17
        }
      ]
    },
    {
      "cell_type": "code",
      "source": [
        "#Notice how the Day of Week is an integer 0-6. Use the .map() with this dictionary to map the actual string names to the day of the week:\n",
        "\n",
        "dmap = {0:'Mon',1:'Tue',2:'Wed',3:'Thu',4:'Fri',5:'Sat',6:'Sun'}\n",
        "df['hour'] = df['timeStamp'].apply(lambda time: time.hour)\n",
        "df['month'] = df['timeStamp'].apply(lambda time: time.month)\n",
        "df['dayofweek'] = df['timeStamp'].apply(lambda time: time.dayofweek)\n",
        "dmap = {0:'Mon',1:'Tue',2:'Wed',3:'Thu',4:'Fri',5:'Sat',6:'Sun'}\n",
        "df['dayofweek'] = df['dayofweek'].map(dmap)\n",
        "#Now use seaborn to create a countplot of the Day of Week column with the hue based off of the Reason column.\n",
        "\n",
        "sns.countplot(x='dayofweek',data=df,hue='reason')\n",
        "plt.legend(bbox_to_anchor=(1.05,1), loc=2, borderaxespad=0)"
      ],
      "metadata": {
        "colab": {
          "base_uri": "https://localhost:8080/",
          "height": 467
        },
        "id": "nLyST2DQEWjn",
        "outputId": "21f4c814-e9b5-45c0-8da0-82af14d15255"
      },
      "execution_count": 18,
      "outputs": [
        {
          "output_type": "execute_result",
          "data": {
            "text/plain": [
              "<matplotlib.legend.Legend at 0x7f8f78617730>"
            ]
          },
          "metadata": {},
          "execution_count": 18
        },
        {
          "output_type": "display_data",
          "data": {
            "text/plain": [
              "<Figure size 640x480 with 1 Axes>"
            ],
            "image/png": "[encoded data removed]"
          },
          "metadata": {}
        }
      ]
    },
    {
      "cell_type": "code",
      "source": [
        "#Now do the same for Month:\n",
        "\n",
        "sns.countplot(x='month',data=df,hue='reason')\n",
        "plt.legend(bbox_to_anchor=(1.05,1), loc=2, borderaxespad=0)"
      ],
      "metadata": {
        "colab": {
          "base_uri": "https://localhost:8080/",
          "height": 467
        },
        "id": "djmi5q-mEWoI",
        "outputId": "ff11aa0b-e2fa-4519-da2c-b3c170328b81"
      },
      "execution_count": 19,
      "outputs": [
        {
          "output_type": "execute_result",
          "data": {
            "text/plain": [
              "<matplotlib.legend.Legend at 0x7f8f63a38be0>"
            ]
          },
          "metadata": {},
          "execution_count": 19
        },
        {
          "output_type": "display_data",
          "data": {
            "text/plain": [
              "<Figure size 640x480 with 1 Axes>"
            ],
            "image/png": "[encoded data removed]"
          },
          "metadata": {}
        }
      ]
    },
    {
      "cell_type": "code",
      "source": [
        "#Now create a gropuby object called byMonth, where you group the DataFrame by the month column and use the count() method for aggregation. Use the head() method on this returned DataFrame.\n",
        "\n",
        "bymonth= df.groupby('month').count()\n",
        "bymonth\n"
      ],
      "metadata": {
        "colab": {
          "base_uri": "https://localhost:8080/",
          "height": 457
        },
        "id": "vXJdMbxAFQB-",
        "outputId": "503edc99-c892-450f-e6d7-240131e608fc"
      },
      "execution_count": 21,
      "outputs": [
        {
          "output_type": "execute_result",
          "data": {
            "text/plain": [
              "         lat    lng   desc    zip  title  timeStamp    twp   addr      e  \\\n",
              "month                                                                      \n",
              "1      62336  62336  62336  55294  62336      62336  62312  62336  62336   \n",
              "2      55427  55427  55427  48922  55427      55427  55405  55427  55427   \n",
              "3      60027  60027  60027  53252  60027      60027  60001  60027  60027   \n",
              "4      53671  53671  53671  47349  53671      53671  53655  53671  53671   \n",
              "5      57509  57509  57509  50354  57509      57509  57474  57509  57509   \n",
              "6      60034  60034  60034  52593  60034      60034  60005  60034  60034   \n",
              "7      59832  59832  59832  52507  59832      59832  59802  59832  59832   \n",
              "8      48359  48359  48359  42311  48359      48359  48335  48359  48359   \n",
              "9      47213  47213  47213  41289  47213      47213  47196  47213  47213   \n",
              "10     51240  51240  51240  44582  51240      51240  51220  51240  51240   \n",
              "11     50182  50182  50182  44087  50182      50182  50157  50182  50182   \n",
              "12     57692  57692  57692  50783  57692      57692  57667  57692  57692   \n",
              "\n",
              "       reason   hour  dayofweek  \n",
              "month                            \n",
              "1       62336  62336      62336  \n",
              "2       55427  55427      55427  \n",
              "3       60027  60027      60027  \n",
              "4       53671  53671      53671  \n",
              "5       57509  57509      57509  \n",
              "6       60034  60034      60034  \n",
              "7       59832  59832      59832  \n",
              "8       48359  48359      48359  \n",
              "9       47213  47213      47213  \n",
              "10      51240  51240      51240  \n",
              "11      50182  50182      50182  \n",
              "12      57692  57692      57692  "
            ],
            "text/html": [
              "\n",
              "  <div id=\"df-256968f9-67a6-4080-8fee-6f7f4d1d7862\">\n",
              "    <div class=\"colab-df-container\">\n",
              "      <div>\n",
              "<style scoped>\n",
              "    .dataframe tbody tr th:only-of-type {\n",
              "        vertical-align: middle;\n",
              "    }\n",
              "\n",
              "    .dataframe tbody tr th {\n",
              "        vertical-align: top;\n",
              "    }\n",
              "\n",
              "    .dataframe thead th {\n",
              "        text-align: right;\n",
              "    }\n",
              "</style>\n",
              "<table border=\"1\" class=\"dataframe\">\n",
              "  <thead>\n",
              "    <tr style=\"text-align: right;\">\n",
              "      <th></th>\n",
              "      <th>lat</th>\n",
              "      <th>lng</th>\n",
              "      <th>desc</th>\n",
              "      <th>zip</th>\n",
              "      <th>title</th>\n",
              "      <th>timeStamp</th>\n",
              "      <th>twp</th>\n",
              "      <th>addr</th>\n",
              "      <th>e</th>\n",
              "      <th>reason</th>\n",
              "      <th>hour</th>\n",
              "      <th>dayofweek</th>\n",
              "    </tr>\n",
              "    <tr>\n",
              "      <th>month</th>\n",
              "      <th></th>\n",
              "      <th></th>\n",
              "      <th></th>\n",
              "      <th></th>\n",
              "      <th></th>\n",
              "      <th></th>\n",
              "      <th></th>\n",
              "      <th></th>\n",
              "      <th></th>\n",
              "      <th></th>\n",
              "      <th></th>\n",
              "      <th></th>\n",
              "    </tr>\n",
              "  </thead>\n",
              "  <tbody>\n",
              "    <tr>\n",
              "      <th>1</th>\n",
              "      <td>62336</td>\n",
              "      <td>62336</td>\n",
              "      <td>62336</td>\n",
              "      <td>55294</td>\n",
              "      <td>62336</td>\n",
              "      <td>62336</td>\n",
              "      <td>62312</td>\n",
              "      <td>62336</td>\n",
              "      <td>62336</td>\n",
              "      <td>62336</td>\n",
              "      <td>62336</td>\n",
              "      <td>62336</td>\n",
              "    </tr>\n",
              "    <tr>\n",
              "      <th>2</th>\n",
              "      <td>55427</td>\n",
              "      <td>55427</td>\n",
              "      <td>55427</td>\n",
              "      <td>48922</td>\n",
              "      <td>55427</td>\n",
              "      <td>55427</td>\n",
              "      <td>55405</td>\n",
              "      <td>55427</td>\n",
              "      <td>55427</td>\n",
              "      <td>55427</td>\n",
              "      <td>55427</td>\n",
              "      <td>55427</td>\n",
              "    </tr>\n",
              "    <tr>\n",
              "      <th>3</th>\n",
              "      <td>60027</td>\n",
              "      <td>60027</td>\n",
              "      <td>60027</td>\n",
              "      <td>53252</td>\n",
              "      <td>60027</td>\n",
              "      <td>60027</td>\n",
              "      <td>60001</td>\n",
              "      <td>60027</td>\n",
              "      <td>60027</td>\n",
              "      <td>60027</td>\n",
              "      <td>60027</td>\n",
              "      <td>60027</td>\n",
              "    </tr>\n",
              "    <tr>\n",
              "      <th>4</th>\n",
              "      <td>53671</td>\n",
              "      <td>53671</td>\n",
              "      <td>53671</td>\n",
              "      <td>47349</td>\n",
              "      <td>53671</td>\n",
              "      <td>53671</td>\n",
              "      <td>53655</td>\n",
              "      <td>53671</td>\n",
              "      <td>53671</td>\n",
              "      <td>53671</td>\n",
              "      <td>53671</td>\n",
              "      <td>53671</td>\n",
              "    </tr>\n",
              "    <tr>\n",
              "      <th>5</th>\n",
              "      <td>57509</td>\n",
              "      <td>57509</td>\n",
              "      <td>57509</td>\n",
              "      <td>50354</td>\n",
              "      <td>57509</td>\n",
              "      <td>57509</td>\n",
              "      <td>57474</td>\n",
              "      <td>57509</td>\n",
              "      <td>57509</td>\n",
              "      <td>57509</td>\n",
              "      <td>57509</td>\n",
              "      <td>57509</td>\n",
              "    </tr>\n",
              "    <tr>\n",
              "      <th>6</th>\n",
              "      <td>60034</td>\n",
              "      <td>60034</td>\n",
              "      <td>60034</td>\n",
              "      <td>52593</td>\n",
              "      <td>60034</td>\n",
              "      <td>60034</td>\n",
              "      <td>60005</td>\n",
              "      <td>60034</td>\n",
              "      <td>60034</td>\n",
              "      <td>60034</td>\n",
              "      <td>60034</td>\n",
              "      <td>60034</td>\n",
              "    </tr>\n",
              "    <tr>\n",
              "      <th>7</th>\n",
              "      <td>59832</td>\n",
              "      <td>59832</td>\n",
              "      <td>59832</td>\n",
              "      <td>52507</td>\n",
              "      <td>59832</td>\n",
              "      <td>59832</td>\n",
              "      <td>59802</td>\n",
              "      <td>59832</td>\n",
              "      <td>59832</td>\n",
              "      <td>59832</td>\n",
              "      <td>59832</td>\n",
              "      <td>59832</td>\n",
              "    </tr>\n",
              "    <tr>\n",
              "      <th>8</th>\n",
              "      <td>48359</td>\n",
              "      <td>48359</td>\n",
              "      <td>48359</td>\n",
              "      <td>42311</td>\n",
              "      <td>48359</td>\n",
              "      <td>48359</td>\n",
              "      <td>48335</td>\n",
              "      <td>48359</td>\n",
              "      <td>48359</td>\n",
              "      <td>48359</td>\n",
              "      <td>48359</td>\n",
              "      <td>48359</td>\n",
              "    </tr>\n",
              "    <tr>\n",
              "      <th>9</th>\n",
              "      <td>47213</td>\n",
              "      <td>47213</td>\n",
              "      <td>47213</td>\n",
              "      <td>41289</td>\n",
              "      <td>47213</td>\n",
              "      <td>47213</td>\n",
              "      <td>47196</td>\n",
              "      <td>47213</td>\n",
              "      <td>47213</td>\n",
              "      <td>47213</td>\n",
              "      <td>47213</td>\n",
              "      <td>47213</td>\n",
              "    </tr>\n",
              "    <tr>\n",
              "      <th>10</th>\n",
              "      <td>51240</td>\n",
              "      <td>51240</td>\n",
              "      <td>51240</td>\n",
              "      <td>44582</td>\n",
              "      <td>51240</td>\n",
              "      <td>51240</td>\n",
              "      <td>51220</td>\n",
              "      <td>51240</td>\n",
              "      <td>51240</td>\n",
              "      <td>51240</td>\n",
              "      <td>51240</td>\n",
              "      <td>51240</td>\n",
              "    </tr>\n",
              "    <tr>\n",
              "      <th>11</th>\n",
              "      <td>50182</td>\n",
              "      <td>50182</td>\n",
              "      <td>50182</td>\n",
              "      <td>44087</td>\n",
              "      <td>50182</td>\n",
              "      <td>50182</td>\n",
              "      <td>50157</td>\n",
              "      <td>50182</td>\n",
              "      <td>50182</td>\n",
              "      <td>50182</td>\n",
              "      <td>50182</td>\n",
              "      <td>50182</td>\n",
              "    </tr>\n",
              "    <tr>\n",
              "      <th>12</th>\n",
              "      <td>57692</td>\n",
              "      <td>57692</td>\n",
              "      <td>57692</td>\n",
              "      <td>50783</td>\n",
              "      <td>57692</td>\n",
              "      <td>57692</td>\n",
              "      <td>57667</td>\n",
              "      <td>57692</td>\n",
              "      <td>57692</td>\n",
              "      <td>57692</td>\n",
              "      <td>57692</td>\n",
              "      <td>57692</td>\n",
              "    </tr>\n",
              "  </tbody>\n",
              "</table>\n",
              "</div>\n",
              "      <button class=\"colab-df-convert\" onclick=\"convertToInteractive('df-256968f9-67a6-4080-8fee-6f7f4d1d7862')\"\n",
              "              title=\"Convert this dataframe to an interactive table.\"\n",
              "              style=\"display:none;\">\n",
              "        \n",
              "  <svg xmlns=\"http://www.w3.org/2000/svg\" height=\"24px\"viewBox=\"0 0 24 24\"\n",
              "       width=\"24px\">\n",
              "    <path d=\"M0 0h24v24H0V0z\" fill=\"none\"/>\n",
              "    <path d=\"M18.56 5.44l.94 2.06.94-2.06 2.06-.94-2.06-.94-.94-2.06-.94 2.06-2.06.94zm-11 1L8.5 8.5l.94-2.06 2.06-.94-2.06-.94L8.5 2.5l-.94 2.06-2.06.94zm10 10l.94 2.06.94-2.06 2.06-.94-2.06-.94-.94-2.06-.94 2.06-2.06.94z\"/><path d=\"M17.41 7.96l-1.37-1.37c-.4-.4-.92-.59-1.43-.59-.52 0-1.04.2-1.43.59L10.3 9.45l-7.72 7.72c-.78.78-.78 2.05 0 2.83L4 21.41c.39.39.9.59 1.41.59.51 0 1.02-.2 1.41-.59l7.78-7.78 2.81-2.81c.8-.78.8-2.07 0-2.86zM5.41 20L4 18.59l7.72-7.72 1.47 1.35L5.41 20z\"/>\n",
              "  </svg>\n",
              "      </button>\n",
              "      \n",
              "  <style>\n",
              "    .colab-df-container {\n",
              "      display:flex;\n",
              "      flex-wrap:wrap;\n",
              "      gap: 12px;\n",
              "    }\n",
              "\n",
              "    .colab-df-convert {\n",
              "      background-color: #E8F0FE;\n",
              "      border: none;\n",
              "      border-radius: 50%;\n",
              "      cursor: pointer;\n",
              "      display: none;\n",
              "      fill: #1967D2;\n",
              "      height: 32px;\n",
              "      padding: 0 0 0 0;\n",
              "      width: 32px;\n",
              "    }\n",
              "\n",
              "    .colab-df-convert:hover {\n",
              "      background-color: #E2EBFA;\n",
              "      box-shadow: 0px 1px 2px rgba(60, 64, 67, 0.3), 0px 1px 3px 1px rgba(60, 64, 67, 0.15);\n",
              "      fill: #174EA6;\n",
              "    }\n",
              "\n",
              "    [theme=dark] .colab-df-convert {\n",
              "      background-color: #3B4455;\n",
              "      fill: #D2E3FC;\n",
              "    }\n",
              "\n",
              "    [theme=dark] .colab-df-convert:hover {\n",
              "      background-color: #434B5C;\n",
              "      box-shadow: 0px 1px 3px 1px rgba(0, 0, 0, 0.15);\n",
              "      filter: drop-shadow(0px 1px 2px rgba(0, 0, 0, 0.3));\n",
              "      fill: #FFFFFF;\n",
              "    }\n",
              "  </style>\n",
              "\n",
              "      <script>\n",
              "        const buttonEl =\n",
              "          document.querySelector('#df-256968f9-67a6-4080-8fee-6f7f4d1d7862 button.colab-df-convert');\n",
              "        buttonEl.style.display =\n",
              "          google.colab.kernel.accessAllowed ? 'block' : 'none';\n",
              "\n",
              "        async function convertToInteractive(key) {\n",
              "          const element = document.querySelector('#df-256968f9-67a6-4080-8fee-6f7f4d1d7862');\n",
              "          const dataTable =\n",
              "            await google.colab.kernel.invokeFunction('convertToInteractive',\n",
              "                                                     [key], {});\n",
              "          if (!dataTable) return;\n",
              "\n",
              "          const docLinkHtml = 'Like what you see? Visit the ' +\n",
              "            '<a target=\"_blank\" href=https://colab.research.google.com/notebooks/data_table.ipynb>data table notebook</a>'\n",
              "            + ' to learn more about interactive tables.';\n",
              "          element.innerHTML = '';\n",
              "          dataTable['output_type'] = 'display_data';\n",
              "          await google.colab.output.renderOutput(dataTable, element);\n",
              "          const docLink = document.createElement('div');\n",
              "          docLink.innerHTML = docLinkHtml;\n",
              "          element.appendChild(docLink);\n",
              "        }\n",
              "      </script>\n",
              "    </div>\n",
              "  </div>\n",
              "  "
            ]
          },
          "metadata": {},
          "execution_count": 21
        }
      ]
    },
    {
      "cell_type": "code",
      "source": [
        "#Now create a simple plot off of the dataframe indicating the count of calls per month.\n",
        "\n",
        "sns.lineplot(bymonth,x='month',y='lat')"
      ],
      "metadata": {
        "colab": {
          "base_uri": "https://localhost:8080/",
          "height": 467
        },
        "id": "SacAZL78FQEu",
        "outputId": "8506592e-dd76-4924-a617-ab545d9ff45a"
      },
      "execution_count": 22,
      "outputs": [
        {
          "output_type": "execute_result",
          "data": {
            "text/plain": [
              "<Axes: xlabel='month', ylabel='lat'>"
            ]
          },
          "metadata": {},
          "execution_count": 22
        },
        {
          "output_type": "display_data",
          "data": {
            "text/plain": [
              "<Figure size 640x480 with 1 Axes>"
            ],
            "image/png": "[encoded data removed]"
          },
          "metadata": {}
        }
      ]
    },
    {
      "cell_type": "code",
      "source": [
        "sns.countplot(x='month',data=df)\n",
        "plt.legend(bbox_to_anchor=(1.05,1), loc=2, borderaxespad=0)"
      ],
      "metadata": {
        "colab": {
          "base_uri": "https://localhost:8080/",
          "height": 505
        },
        "id": "Nyjsn5hIFQHo",
        "outputId": "4ccb41ae-09fc-4f36-9409-070a11e89650"
      },
      "execution_count": 23,
      "outputs": [
        {
          "output_type": "stream",
          "name": "stderr",
          "text": [
            "WARNING:matplotlib.legend:No artists with labels found to put in legend.  Note that artists whose label start with an underscore are ignored when legend() is called with no argument.\n"
          ]
        },
        {
          "output_type": "execute_result",
          "data": {
            "text/plain": [
              "<matplotlib.legend.Legend at 0x7f8f73301640>"
            ]
          },
          "metadata": {},
          "execution_count": 23
        },
        {
          "output_type": "display_data",
          "data": {
            "text/plain": [
              "<Figure size 640x480 with 1 Axes>"
            ],
            "image/png": "[encoded data removed]"
          },
          "metadata": {}
        }
      ]
    },
    {
      "cell_type": "code",
      "source": [
        "sns.lmplot(x='month', y='twp', data=bymonth.reset_index())"
      ],
      "metadata": {
        "colab": {
          "base_uri": "https://localhost:8080/",
          "height": 524
        },
        "id": "Wtz2zbzeFQKT",
        "outputId": "3b4595c0-e266-4da7-e565-160b0d16610c"
      },
      "execution_count": 24,
      "outputs": [
        {
          "output_type": "execute_result",
          "data": {
            "text/plain": [
              "<seaborn.axisgrid.FacetGrid at 0x7f8f732fea30>"
            ]
          },
          "metadata": {},
          "execution_count": 24
        },
        {
          "output_type": "display_data",
          "data": {
            "text/plain": [
              "<Figure size 500x500 with 1 Axes>"
            ],
            "image/png": "[encoded data removed]"
          },
          "metadata": {}
        }
      ]
    },
    {
      "cell_type": "code",
      "source": [
        "#create a new column called 'Date' that contains the date from the timeStamp column. You'll need to use apply along with the .date() method.\n",
        "\n",
        "t = df['timeStamp'].iloc[0]\n",
        "t"
      ],
      "metadata": {
        "colab": {
          "base_uri": "https://localhost:8080/"
        },
        "id": "XkYPqGxuFQNn",
        "outputId": "8b3fd453-2cee-4f49-f42c-530327ee64c4"
      },
      "execution_count": 25,
      "outputs": [
        {
          "output_type": "execute_result",
          "data": {
            "text/plain": [
              "Timestamp('2015-12-10 17:10:52')"
            ]
          },
          "metadata": {},
          "execution_count": 25
        }
      ]
    },
    {
      "cell_type": "code",
      "source": [
        "df['date'] = df['timeStamp'].apply(lambda t: t.date())"
      ],
      "metadata": {
        "id": "_aRB73OMFQRE"
      },
      "execution_count": 26,
      "outputs": []
    },
    {
      "cell_type": "code",
      "source": [
        "#Now groupby this Date column with the count() aggregate and create a plot of counts of 911 calls.\n",
        "\n",
        "df.groupby('date').count()['lat'].plot()\n",
        "plt.tight_layout()"
      ],
      "metadata": {
        "colab": {
          "base_uri": "https://localhost:8080/",
          "height": 487
        },
        "id": "Pdzg2-SqF6Ju",
        "outputId": "ed1f3ec5-90b5-4df1-be74-f5ff86f5e631"
      },
      "execution_count": 27,
      "outputs": [
        {
          "output_type": "display_data",
          "data": {
            "text/plain": [
              "<Figure size 640x480 with 1 Axes>"
            ],
            "image/png": "[encoded data removed]"
          },
          "metadata": {}
        }
      ]
    },
    {
      "cell_type": "code",
      "source": [
        "#recreate this plot but create 3 separate plots with each plot representing a Reason for the 911 call\n",
        "\n",
        "df[df['reason']=='Traffic'].groupby('date').count()['lat'].plot()"
      ],
      "metadata": {
        "colab": {
          "base_uri": "https://localhost:8080/",
          "height": 467
        },
        "id": "NXyRvzq_F6M-",
        "outputId": "d267f5d2-0092-4d3d-94e4-b81056ce2d0e"
      },
      "execution_count": 28,
      "outputs": [
        {
          "output_type": "execute_result",
          "data": {
            "text/plain": [
              "<Axes: xlabel='date'>"
            ]
          },
          "metadata": {},
          "execution_count": 28
        },
        {
          "output_type": "display_data",
          "data": {
            "text/plain": [
              "<Figure size 640x480 with 1 Axes>"
            ],
            "image/png": "[encoded data removed]"
          },
          "metadata": {}
        }
      ]
    },
    {
      "cell_type": "code",
      "source": [
        "# alt method\n",
        "df.query(\"reason == 'Traffic'\").groupby('date').count()['lat'].plot()"
      ],
      "metadata": {
        "colab": {
          "base_uri": "https://localhost:8080/",
          "height": 467
        },
        "id": "O-h3V2ooF6TD",
        "outputId": "53bfa161-7c2f-4d2f-e45d-e4bf43667423"
      },
      "execution_count": 29,
      "outputs": [
        {
          "output_type": "execute_result",
          "data": {
            "text/plain": [
              "<Axes: xlabel='date'>"
            ]
          },
          "metadata": {},
          "execution_count": 29
        },
        {
          "output_type": "display_data",
          "data": {
            "text/plain": [
              "<Figure size 640x480 with 1 Axes>"
            ],
            "image/png": "[encoded data removed]"
          },
          "metadata": {}
        }
      ]
    },
    {
      "cell_type": "code",
      "source": [
        "df.groupby(by=['dayofweek','hour']).count()"
      ],
      "metadata": {
        "colab": {
          "base_uri": "https://localhost:8080/",
          "height": 455
        },
        "id": "Ug-46tz4GHjf",
        "outputId": "27e35a54-3c1e-4ad8-b304-678d194cba67"
      },
      "execution_count": 30,
      "outputs": [
        {
          "output_type": "execute_result",
          "data": {
            "text/plain": [
              "                 lat   lng  desc   zip  title  timeStamp   twp  addr     e  \\\n",
              "dayofweek hour                                                               \n",
              "Fri       0     1983  1983  1983  1752   1983       1983  1981  1983  1983   \n",
              "          1     1635  1635  1635  1451   1635       1635  1632  1635  1635   \n",
              "          2     1449  1449  1449  1311   1449       1449  1449  1449  1449   \n",
              "          3     1296  1296  1296  1173   1296       1296  1296  1296  1296   \n",
              "          4     1339  1339  1339  1227   1339       1339  1338  1339  1339   \n",
              "...              ...   ...   ...   ...    ...        ...   ...   ...   ...   \n",
              "Wed       19    4686  4686  4686  4165   4686       4686  4684  4686  4686   \n",
              "          20    4116  4116  4116  3661   4116       4116  4113  4116  4116   \n",
              "          21    3537  3537  3537  3143   3537       3537  3530  3537  3537   \n",
              "          22    2826  2826  2826  2511   2826       2826  2825  2826  2826   \n",
              "          23    2207  2207  2207  1965   2207       2207  2204  2207  2207   \n",
              "\n",
              "                reason  month  date  \n",
              "dayofweek hour                       \n",
              "Fri       0       1983   1983  1983  \n",
              "          1       1635   1635  1635  \n",
              "          2       1449   1449  1449  \n",
              "          3       1296   1296  1296  \n",
              "          4       1339   1339  1339  \n",
              "...                ...    ...   ...  \n",
              "Wed       19      4686   4686  4686  \n",
              "          20      4116   4116  4116  \n",
              "          21      3537   3537  3537  \n",
              "          22      2826   2826  2826  \n",
              "          23      2207   2207  2207  \n",
              "\n",
              "[168 rows x 12 columns]"
            ],
            "text/html": [
              "\n",
              "  <div id=\"df-5cfa6334-a69b-4a5c-99d6-4987623b08ce\">\n",
              "    <div class=\"colab-df-container\">\n",
              "      <div>\n",
              "<style scoped>\n",
              "    .dataframe tbody tr th:only-of-type {\n",
              "        vertical-align: middle;\n",
              "    }\n",
              "\n",
              "    .dataframe tbody tr th {\n",
              "        vertical-align: top;\n",
              "    }\n",
              "\n",
              "    .dataframe thead th {\n",
              "        text-align: right;\n",
              "    }\n",
              "</style>\n",
              "<table border=\"1\" class=\"dataframe\">\n",
              "  <thead>\n",
              "    <tr style=\"text-align: right;\">\n",
              "      <th></th>\n",
              "      <th></th>\n",
              "      <th>lat</th>\n",
              "      <th>lng</th>\n",
              "      <th>desc</th>\n",
              "      <th>zip</th>\n",
              "      <th>title</th>\n",
              "      <th>timeStamp</th>\n",
              "      <th>twp</th>\n",
              "      <th>addr</th>\n",
              "      <th>e</th>\n",
              "      <th>reason</th>\n",
              "      <th>month</th>\n",
              "      <th>date</th>\n",
              "    </tr>\n",
              "    <tr>\n",
              "      <th>dayofweek</th>\n",
              "      <th>hour</th>\n",
              "      <th></th>\n",
              "      <th></th>\n",
              "      <th></th>\n",
              "      <th></th>\n",
              "      <th></th>\n",
              "      <th></th>\n",
              "      <th></th>\n",
              "      <th></th>\n",
              "      <th></th>\n",
              "      <th></th>\n",
              "      <th></th>\n",
              "      <th></th>\n",
              "    </tr>\n",
              "  </thead>\n",
              "  <tbody>\n",
              "    <tr>\n",
              "      <th rowspan=\"5\" valign=\"top\">Fri</th>\n",
              "      <th>0</th>\n",
              "      <td>1983</td>\n",
              "      <td>1983</td>\n",
              "      <td>1983</td>\n",
              "      <td>1752</td>\n",
              "      <td>1983</td>\n",
              "      <td>1983</td>\n",
              "      <td>1981</td>\n",
              "      <td>1983</td>\n",
              "      <td>1983</td>\n",
              "      <td>1983</td>\n",
              "      <td>1983</td>\n",
              "      <td>1983</td>\n",
              "    </tr>\n",
              "    <tr>\n",
              "      <th>1</th>\n",
              "      <td>1635</td>\n",
              "      <td>1635</td>\n",
              "      <td>1635</td>\n",
              "      <td>1451</td>\n",
              "      <td>1635</td>\n",
              "      <td>1635</td>\n",
              "      <td>1632</td>\n",
              "      <td>1635</td>\n",
              "      <td>1635</td>\n",
              "      <td>1635</td>\n",
              "      <td>1635</td>\n",
              "      <td>1635</td>\n",
              "    </tr>\n",
              "    <tr>\n",
              "      <th>2</th>\n",
              "      <td>1449</td>\n",
              "      <td>1449</td>\n",
              "      <td>1449</td>\n",
              "      <td>1311</td>\n",
              "      <td>1449</td>\n",
              "      <td>1449</td>\n",
              "      <td>1449</td>\n",
              "      <td>1449</td>\n",
              "      <td>1449</td>\n",
              "      <td>1449</td>\n",
              "      <td>1449</td>\n",
              "      <td>1449</td>\n",
              "    </tr>\n",
              "    <tr>\n",
              "      <th>3</th>\n",
              "      <td>1296</td>\n",
              "      <td>1296</td>\n",
              "      <td>1296</td>\n",
              "      <td>1173</td>\n",
              "      <td>1296</td>\n",
              "      <td>1296</td>\n",
              "      <td>1296</td>\n",
              "      <td>1296</td>\n",
              "      <td>1296</td>\n",
              "      <td>1296</td>\n",
              "      <td>1296</td>\n",
              "      <td>1296</td>\n",
              "    </tr>\n",
              "    <tr>\n",
              "      <th>4</th>\n",
              "      <td>1339</td>\n",
              "      <td>1339</td>\n",
              "      <td>1339</td>\n",
              "      <td>1227</td>\n",
              "      <td>1339</td>\n",
              "      <td>1339</td>\n",
              "      <td>1338</td>\n",
              "      <td>1339</td>\n",
              "      <td>1339</td>\n",
              "      <td>1339</td>\n",
              "      <td>1339</td>\n",
              "      <td>1339</td>\n",
              "    </tr>\n",
              "    <tr>\n",
              "      <th>...</th>\n",
              "      <th>...</th>\n",
              "      <td>...</td>\n",
              "      <td>...</td>\n",
              "      <td>...</td>\n",
              "      <td>...</td>\n",
              "      <td>...</td>\n",
              "      <td>...</td>\n",
              "      <td>...</td>\n",
              "      <td>...</td>\n",
              "      <td>...</td>\n",
              "      <td>...</td>\n",
              "      <td>...</td>\n",
              "      <td>...</td>\n",
              "    </tr>\n",
              "    <tr>\n",
              "      <th rowspan=\"5\" valign=\"top\">Wed</th>\n",
              "      <th>19</th>\n",
              "      <td>4686</td>\n",
              "      <td>4686</td>\n",
              "      <td>4686</td>\n",
              "      <td>4165</td>\n",
              "      <td>4686</td>\n",
              "      <td>4686</td>\n",
              "      <td>4684</td>\n",
              "      <td>4686</td>\n",
              "      <td>4686</td>\n",
              "      <td>4686</td>\n",
              "      <td>4686</td>\n",
              "      <td>4686</td>\n",
              "    </tr>\n",
              "    <tr>\n",
              "      <th>20</th>\n",
              "      <td>4116</td>\n",
              "      <td>4116</td>\n",
              "      <td>4116</td>\n",
              "      <td>3661</td>\n",
              "      <td>4116</td>\n",
              "      <td>4116</td>\n",
              "      <td>4113</td>\n",
              "      <td>4116</td>\n",
              "      <td>4116</td>\n",
              "      <td>4116</td>\n",
              "      <td>4116</td>\n",
              "      <td>4116</td>\n",
              "    </tr>\n",
              "    <tr>\n",
              "      <th>21</th>\n",
              "      <td>3537</td>\n",
              "      <td>3537</td>\n",
              "      <td>3537</td>\n",
              "      <td>3143</td>\n",
              "      <td>3537</td>\n",
              "      <td>3537</td>\n",
              "      <td>3530</td>\n",
              "      <td>3537</td>\n",
              "      <td>3537</td>\n",
              "      <td>3537</td>\n",
              "      <td>3537</td>\n",
              "      <td>3537</td>\n",
              "    </tr>\n",
              "    <tr>\n",
              "      <th>22</th>\n",
              "      <td>2826</td>\n",
              "      <td>2826</td>\n",
              "      <td>2826</td>\n",
              "      <td>2511</td>\n",
              "      <td>2826</td>\n",
              "      <td>2826</td>\n",
              "      <td>2825</td>\n",
              "      <td>2826</td>\n",
              "      <td>2826</td>\n",
              "      <td>2826</td>\n",
              "      <td>2826</td>\n",
              "      <td>2826</td>\n",
              "    </tr>\n",
              "    <tr>\n",
              "      <th>23</th>\n",
              "      <td>2207</td>\n",
              "      <td>2207</td>\n",
              "      <td>2207</td>\n",
              "      <td>1965</td>\n",
              "      <td>2207</td>\n",
              "      <td>2207</td>\n",
              "      <td>2204</td>\n",
              "      <td>2207</td>\n",
              "      <td>2207</td>\n",
              "      <td>2207</td>\n",
              "      <td>2207</td>\n",
              "      <td>2207</td>\n",
              "    </tr>\n",
              "  </tbody>\n",
              "</table>\n",
              "<p>168 rows × 12 columns</p>\n",
              "</div>\n",
              "      <button class=\"colab-df-convert\" onclick=\"convertToInteractive('df-5cfa6334-a69b-4a5c-99d6-4987623b08ce')\"\n",
              "              title=\"Convert this dataframe to an interactive table.\"\n",
              "              style=\"display:none;\">\n",
              "        \n",
              "  <svg xmlns=\"http://www.w3.org/2000/svg\" height=\"24px\"viewBox=\"0 0 24 24\"\n",
              "       width=\"24px\">\n",
              "    <path d=\"M0 0h24v24H0V0z\" fill=\"none\"/>\n",
              "    <path d=\"M18.56 5.44l.94 2.06.94-2.06 2.06-.94-2.06-.94-.94-2.06-.94 2.06-2.06.94zm-11 1L8.5 8.5l.94-2.06 2.06-.94-2.06-.94L8.5 2.5l-.94 2.06-2.06.94zm10 10l.94 2.06.94-2.06 2.06-.94-2.06-.94-.94-2.06-.94 2.06-2.06.94z\"/><path d=\"M17.41 7.96l-1.37-1.37c-.4-.4-.92-.59-1.43-.59-.52 0-1.04.2-1.43.59L10.3 9.45l-7.72 7.72c-.78.78-.78 2.05 0 2.83L4 21.41c.39.39.9.59 1.41.59.51 0 1.02-.2 1.41-.59l7.78-7.78 2.81-2.81c.8-.78.8-2.07 0-2.86zM5.41 20L4 18.59l7.72-7.72 1.47 1.35L5.41 20z\"/>\n",
              "  </svg>\n",
              "      </button>\n",
              "      \n",
              "  <style>\n",
              "    .colab-df-container {\n",
              "      display:flex;\n",
              "      flex-wrap:wrap;\n",
              "      gap: 12px;\n",
              "    }\n",
              "\n",
              "    .colab-df-convert {\n",
              "      background-color: #E8F0FE;\n",
              "      border: none;\n",
              "      border-radius: 50%;\n",
              "      cursor: pointer;\n",
              "      display: none;\n",
              "      fill: #1967D2;\n",
              "      height: 32px;\n",
              "      padding: 0 0 0 0;\n",
              "      width: 32px;\n",
              "    }\n",
              "\n",
              "    .colab-df-convert:hover {\n",
              "      background-color: #E2EBFA;\n",
              "      box-shadow: 0px 1px 2px rgba(60, 64, 67, 0.3), 0px 1px 3px 1px rgba(60, 64, 67, 0.15);\n",
              "      fill: #174EA6;\n",
              "    }\n",
              "\n",
              "    [theme=dark] .colab-df-convert {\n",
              "      background-color: #3B4455;\n",
              "      fill: #D2E3FC;\n",
              "    }\n",
              "\n",
              "    [theme=dark] .colab-df-convert:hover {\n",
              "      background-color: #434B5C;\n",
              "      box-shadow: 0px 1px 3px 1px rgba(0, 0, 0, 0.15);\n",
              "      filter: drop-shadow(0px 1px 2px rgba(0, 0, 0, 0.3));\n",
              "      fill: #FFFFFF;\n",
              "    }\n",
              "  </style>\n",
              "\n",
              "      <script>\n",
              "        const buttonEl =\n",
              "          document.querySelector('#df-5cfa6334-a69b-4a5c-99d6-4987623b08ce button.colab-df-convert');\n",
              "        buttonEl.style.display =\n",
              "          google.colab.kernel.accessAllowed ? 'block' : 'none';\n",
              "\n",
              "        async function convertToInteractive(key) {\n",
              "          const element = document.querySelector('#df-5cfa6334-a69b-4a5c-99d6-4987623b08ce');\n",
              "          const dataTable =\n",
              "            await google.colab.kernel.invokeFunction('convertToInteractive',\n",
              "                                                     [key], {});\n",
              "          if (!dataTable) return;\n",
              "\n",
              "          const docLinkHtml = 'Like what you see? Visit the ' +\n",
              "            '<a target=\"_blank\" href=https://colab.research.google.com/notebooks/data_table.ipynb>data table notebook</a>'\n",
              "            + ' to learn more about interactive tables.';\n",
              "          element.innerHTML = '';\n",
              "          dataTable['output_type'] = 'display_data';\n",
              "          await google.colab.output.renderOutput(dataTable, element);\n",
              "          const docLink = document.createElement('div');\n",
              "          docLink.innerHTML = docLinkHtml;\n",
              "          element.appendChild(docLink);\n",
              "        }\n",
              "      </script>\n",
              "    </div>\n",
              "  </div>\n",
              "  "
            ]
          },
          "metadata": {},
          "execution_count": 30
        }
      ]
    },
    {
      "cell_type": "code",
      "source": [
        "dayhour=df.groupby(by=['dayofweek','hour']).count().unstack()\n",
        "dayhour"
      ],
      "metadata": {
        "colab": {
          "base_uri": "https://localhost:8080/",
          "height": 424
        },
        "id": "MwY8g4ZUGHoZ",
        "outputId": "19134f8b-dd9b-475a-de37-4ac28cd403c7"
      },
      "execution_count": 31,
      "outputs": [
        {
          "output_type": "execute_result",
          "data": {
            "text/plain": [
              "            lat                                                        ...  \\\n",
              "hour         0     1     2     3     4     5     6     7     8     9   ...   \n",
              "dayofweek                                                              ...   \n",
              "Fri        1983  1635  1449  1296  1339  1639  2670  4143  5018  5288  ...   \n",
              "Mon        1894  1571  1368  1272  1336  1844  2675  4430  5504  5724  ...   \n",
              "Sat        2447  2059  1883  1592  1451  1580  1880  2489  3457  4315  ...   \n",
              "Sun        2424  2135  1946  1614  1471  1488  1726  2408  3001  3728  ...   \n",
              "Thu        1731  1408  1426  1236  1293  1775  2816  4432  5297  5412  ...   \n",
              "Tue        1720  1459  1322  1213  1247  1741  2784  4425  5634  5566  ...   \n",
              "Wed        1664  1484  1259  1265  1128  1609  2668  4644  5469  5444  ...   \n",
              "\n",
              "           date                                                        \n",
              "hour         14    15    16    17    18    19    20    21    22    23  \n",
              "dayofweek                                                              \n",
              "Fri        6394  7040  7065  7113  5668  5056  4375  3913  3422  2834  \n",
              "Mon        5713  6289  6346  6408  5441  4488  3823  3254  2658  2072  \n",
              "Sat        5421  5181  5211  5213  4980  4753  4127  3895  3226  2965  \n",
              "Sun        4744  4475  4560  4505  4402  4135  3748  3161  2629  2323  \n",
              "Thu        6079  6493  6375  6935  5512  4703  4045  3490  2844  2354  \n",
              "Tue        5926  6252  6495  6883  5628  4621  3845  3409  2708  2137  \n",
              "Wed        6069  6533  6745  7062  5691  4686  4116  3537  2826  2207  \n",
              "\n",
              "[7 rows x 288 columns]"
            ],
            "text/html": [
              "\n",
              "  <div id=\"df-524fbe64-eb4b-4b8e-8e3e-5707b813c870\">\n",
              "    <div class=\"colab-df-container\">\n",
              "      <div>\n",
              "<style scoped>\n",
              "    .dataframe tbody tr th:only-of-type {\n",
              "        vertical-align: middle;\n",
              "    }\n",
              "\n",
              "    .dataframe tbody tr th {\n",
              "        vertical-align: top;\n",
              "    }\n",
              "\n",
              "    .dataframe thead tr th {\n",
              "        text-align: left;\n",
              "    }\n",
              "\n",
              "    .dataframe thead tr:last-of-type th {\n",
              "        text-align: right;\n",
              "    }\n",
              "</style>\n",
              "<table border=\"1\" class=\"dataframe\">\n",
              "  <thead>\n",
              "    <tr>\n",
              "      <th></th>\n",
              "      <th colspan=\"10\" halign=\"left\">lat</th>\n",
              "      <th>...</th>\n",
              "      <th colspan=\"10\" halign=\"left\">date</th>\n",
              "    </tr>\n",
              "    <tr>\n",
              "      <th>hour</th>\n",
              "      <th>0</th>\n",
              "      <th>1</th>\n",
              "      <th>2</th>\n",
              "      <th>3</th>\n",
              "      <th>4</th>\n",
              "      <th>5</th>\n",
              "      <th>6</th>\n",
              "      <th>7</th>\n",
              "      <th>8</th>\n",
              "      <th>9</th>\n",
              "      <th>...</th>\n",
              "      <th>14</th>\n",
              "      <th>15</th>\n",
              "      <th>16</th>\n",
              "      <th>17</th>\n",
              "      <th>18</th>\n",
              "      <th>19</th>\n",
              "      <th>20</th>\n",
              "      <th>21</th>\n",
              "      <th>22</th>\n",
              "      <th>23</th>\n",
              "    </tr>\n",
              "    <tr>\n",
              "      <th>dayofweek</th>\n",
              "      <th></th>\n",
              "      <th></th>\n",
              "      <th></th>\n",
              "      <th></th>\n",
              "      <th></th>\n",
              "      <th></th>\n",
              "      <th></th>\n",
              "      <th></th>\n",
              "      <th></th>\n",
              "      <th></th>\n",
              "      <th></th>\n",
              "      <th></th>\n",
              "      <th></th>\n",
              "      <th></th>\n",
              "      <th></th>\n",
              "      <th></th>\n",
              "      <th></th>\n",
              "      <th></th>\n",
              "      <th></th>\n",
              "      <th></th>\n",
              "      <th></th>\n",
              "    </tr>\n",
              "  </thead>\n",
              "  <tbody>\n",
              "    <tr>\n",
              "      <th>Fri</th>\n",
              "      <td>1983</td>\n",
              "      <td>1635</td>\n",
              "      <td>1449</td>\n",
              "      <td>1296</td>\n",
              "      <td>1339</td>\n",
              "      <td>1639</td>\n",
              "      <td>2670</td>\n",
              "      <td>4143</td>\n",
              "      <td>5018</td>\n",
              "      <td>5288</td>\n",
              "      <td>...</td>\n",
              "      <td>6394</td>\n",
              "      <td>7040</td>\n",
              "      <td>7065</td>\n",
              "      <td>7113</td>\n",
              "      <td>5668</td>\n",
              "      <td>5056</td>\n",
              "      <td>4375</td>\n",
              "      <td>3913</td>\n",
              "      <td>3422</td>\n",
              "      <td>2834</td>\n",
              "    </tr>\n",
              "    <tr>\n",
              "      <th>Mon</th>\n",
              "      <td>1894</td>\n",
              "      <td>1571</td>\n",
              "      <td>1368</td>\n",
              "      <td>1272</td>\n",
              "      <td>1336</td>\n",
              "      <td>1844</td>\n",
              "      <td>2675</td>\n",
              "      <td>4430</td>\n",
              "      <td>5504</td>\n",
              "      <td>5724</td>\n",
              "      <td>...</td>\n",
              "      <td>5713</td>\n",
              "      <td>6289</td>\n",
              "      <td>6346</td>\n",
              "      <td>6408</td>\n",
              "      <td>5441</td>\n",
              "      <td>4488</td>\n",
              "      <td>3823</td>\n",
              "      <td>3254</td>\n",
              "      <td>2658</td>\n",
              "      <td>2072</td>\n",
              "    </tr>\n",
              "    <tr>\n",
              "      <th>Sat</th>\n",
              "      <td>2447</td>\n",
              "      <td>2059</td>\n",
              "      <td>1883</td>\n",
              "      <td>1592</td>\n",
              "      <td>1451</td>\n",
              "      <td>1580</td>\n",
              "      <td>1880</td>\n",
              "      <td>2489</td>\n",
              "      <td>3457</td>\n",
              "      <td>4315</td>\n",
              "      <td>...</td>\n",
              "      <td>5421</td>\n",
              "      <td>5181</td>\n",
              "      <td>5211</td>\n",
              "      <td>5213</td>\n",
              "      <td>4980</td>\n",
              "      <td>4753</td>\n",
              "      <td>4127</td>\n",
              "      <td>3895</td>\n",
              "      <td>3226</td>\n",
              "      <td>2965</td>\n",
              "    </tr>\n",
              "    <tr>\n",
              "      <th>Sun</th>\n",
              "      <td>2424</td>\n",
              "      <td>2135</td>\n",
              "      <td>1946</td>\n",
              "      <td>1614</td>\n",
              "      <td>1471</td>\n",
              "      <td>1488</td>\n",
              "      <td>1726</td>\n",
              "      <td>2408</td>\n",
              "      <td>3001</td>\n",
              "      <td>3728</td>\n",
              "      <td>...</td>\n",
              "      <td>4744</td>\n",
              "      <td>4475</td>\n",
              "      <td>4560</td>\n",
              "      <td>4505</td>\n",
              "      <td>4402</td>\n",
              "      <td>4135</td>\n",
              "      <td>3748</td>\n",
              "      <td>3161</td>\n",
              "      <td>2629</td>\n",
              "      <td>2323</td>\n",
              "    </tr>\n",
              "    <tr>\n",
              "      <th>Thu</th>\n",
              "      <td>1731</td>\n",
              "      <td>1408</td>\n",
              "      <td>1426</td>\n",
              "      <td>1236</td>\n",
              "      <td>1293</td>\n",
              "      <td>1775</td>\n",
              "      <td>2816</td>\n",
              "      <td>4432</td>\n",
              "      <td>5297</td>\n",
              "      <td>5412</td>\n",
              "      <td>...</td>\n",
              "      <td>6079</td>\n",
              "      <td>6493</td>\n",
              "      <td>6375</td>\n",
              "      <td>6935</td>\n",
              "      <td>5512</td>\n",
              "      <td>4703</td>\n",
              "      <td>4045</td>\n",
              "      <td>3490</td>\n",
              "      <td>2844</td>\n",
              "      <td>2354</td>\n",
              "    </tr>\n",
              "    <tr>\n",
              "      <th>Tue</th>\n",
              "      <td>1720</td>\n",
              "      <td>1459</td>\n",
              "      <td>1322</td>\n",
              "      <td>1213</td>\n",
              "      <td>1247</td>\n",
              "      <td>1741</td>\n",
              "      <td>2784</td>\n",
              "      <td>4425</td>\n",
              "      <td>5634</td>\n",
              "      <td>5566</td>\n",
              "      <td>...</td>\n",
              "      <td>5926</td>\n",
              "      <td>6252</td>\n",
              "      <td>6495</td>\n",
              "      <td>6883</td>\n",
              "      <td>5628</td>\n",
              "      <td>4621</td>\n",
              "      <td>3845</td>\n",
              "      <td>3409</td>\n",
              "      <td>2708</td>\n",
              "      <td>2137</td>\n",
              "    </tr>\n",
              "    <tr>\n",
              "      <th>Wed</th>\n",
              "      <td>1664</td>\n",
              "      <td>1484</td>\n",
              "      <td>1259</td>\n",
              "      <td>1265</td>\n",
              "      <td>1128</td>\n",
              "      <td>1609</td>\n",
              "      <td>2668</td>\n",
              "      <td>4644</td>\n",
              "      <td>5469</td>\n",
              "      <td>5444</td>\n",
              "      <td>...</td>\n",
              "      <td>6069</td>\n",
              "      <td>6533</td>\n",
              "      <td>6745</td>\n",
              "      <td>7062</td>\n",
              "      <td>5691</td>\n",
              "      <td>4686</td>\n",
              "      <td>4116</td>\n",
              "      <td>3537</td>\n",
              "      <td>2826</td>\n",
              "      <td>2207</td>\n",
              "    </tr>\n",
              "  </tbody>\n",
              "</table>\n",
              "<p>7 rows × 288 columns</p>\n",
              "</div>\n",
              "      <button class=\"colab-df-convert\" onclick=\"convertToInteractive('df-524fbe64-eb4b-4b8e-8e3e-5707b813c870')\"\n",
              "              title=\"Convert this dataframe to an interactive table.\"\n",
              "              style=\"display:none;\">\n",
              "        \n",
              "  <svg xmlns=\"http://www.w3.org/2000/svg\" height=\"24px\"viewBox=\"0 0 24 24\"\n",
              "       width=\"24px\">\n",
              "    <path d=\"M0 0h24v24H0V0z\" fill=\"none\"/>\n",
              "    <path d=\"M18.56 5.44l.94 2.06.94-2.06 2.06-.94-2.06-.94-.94-2.06-.94 2.06-2.06.94zm-11 1L8.5 8.5l.94-2.06 2.06-.94-2.06-.94L8.5 2.5l-.94 2.06-2.06.94zm10 10l.94 2.06.94-2.06 2.06-.94-2.06-.94-.94-2.06-.94 2.06-2.06.94z\"/><path d=\"M17.41 7.96l-1.37-1.37c-.4-.4-.92-.59-1.43-.59-.52 0-1.04.2-1.43.59L10.3 9.45l-7.72 7.72c-.78.78-.78 2.05 0 2.83L4 21.41c.39.39.9.59 1.41.59.51 0 1.02-.2 1.41-.59l7.78-7.78 2.81-2.81c.8-.78.8-2.07 0-2.86zM5.41 20L4 18.59l7.72-7.72 1.47 1.35L5.41 20z\"/>\n",
              "  </svg>\n",
              "      </button>\n",
              "      \n",
              "  <style>\n",
              "    .colab-df-container {\n",
              "      display:flex;\n",
              "      flex-wrap:wrap;\n",
              "      gap: 12px;\n",
              "    }\n",
              "\n",
              "    .colab-df-convert {\n",
              "      background-color: #E8F0FE;\n",
              "      border: none;\n",
              "      border-radius: 50%;\n",
              "      cursor: pointer;\n",
              "      display: none;\n",
              "      fill: #1967D2;\n",
              "      height: 32px;\n",
              "      padding: 0 0 0 0;\n",
              "      width: 32px;\n",
              "    }\n",
              "\n",
              "    .colab-df-convert:hover {\n",
              "      background-color: #E2EBFA;\n",
              "      box-shadow: 0px 1px 2px rgba(60, 64, 67, 0.3), 0px 1px 3px 1px rgba(60, 64, 67, 0.15);\n",
              "      fill: #174EA6;\n",
              "    }\n",
              "\n",
              "    [theme=dark] .colab-df-convert {\n",
              "      background-color: #3B4455;\n",
              "      fill: #D2E3FC;\n",
              "    }\n",
              "\n",
              "    [theme=dark] .colab-df-convert:hover {\n",
              "      background-color: #434B5C;\n",
              "      box-shadow: 0px 1px 3px 1px rgba(0, 0, 0, 0.15);\n",
              "      filter: drop-shadow(0px 1px 2px rgba(0, 0, 0, 0.3));\n",
              "      fill: #FFFFFF;\n",
              "    }\n",
              "  </style>\n",
              "\n",
              "      <script>\n",
              "        const buttonEl =\n",
              "          document.querySelector('#df-524fbe64-eb4b-4b8e-8e3e-5707b813c870 button.colab-df-convert');\n",
              "        buttonEl.style.display =\n",
              "          google.colab.kernel.accessAllowed ? 'block' : 'none';\n",
              "\n",
              "        async function convertToInteractive(key) {\n",
              "          const element = document.querySelector('#df-524fbe64-eb4b-4b8e-8e3e-5707b813c870');\n",
              "          const dataTable =\n",
              "            await google.colab.kernel.invokeFunction('convertToInteractive',\n",
              "                                                     [key], {});\n",
              "          if (!dataTable) return;\n",
              "\n",
              "          const docLinkHtml = 'Like what you see? Visit the ' +\n",
              "            '<a target=\"_blank\" href=https://colab.research.google.com/notebooks/data_table.ipynb>data table notebook</a>'\n",
              "            + ' to learn more about interactive tables.';\n",
              "          element.innerHTML = '';\n",
              "          dataTable['output_type'] = 'display_data';\n",
              "          await google.colab.output.renderOutput(dataTable, element);\n",
              "          const docLink = document.createElement('div');\n",
              "          docLink.innerHTML = docLinkHtml;\n",
              "          element.appendChild(docLink);\n",
              "        }\n",
              "      </script>\n",
              "    </div>\n",
              "  </div>\n",
              "  "
            ]
          },
          "metadata": {},
          "execution_count": 31
        }
      ]
    },
    {
      "cell_type": "code",
      "source": [
        "sns.heatmap(dayhour,cmap='viridis')"
      ],
      "metadata": {
        "colab": {
          "base_uri": "https://localhost:8080/",
          "height": 553
        },
        "id": "m_u39TVlGHq5",
        "outputId": "85f1ff5b-420c-4eb7-ffd4-c1851f6b3eaa"
      },
      "execution_count": 32,
      "outputs": [
        {
          "output_type": "execute_result",
          "data": {
            "text/plain": [
              "<Axes: xlabel='None-hour', ylabel='dayofweek'>"
            ]
          },
          "metadata": {},
          "execution_count": 32
        },
        {
          "output_type": "display_data",
          "data": {
            "text/plain": [
              "<Figure size 640x480 with 2 Axes>"
            ],
            "image/png": "[encoded data removed]"
          },
          "metadata": {}
        }
      ]
    },
    {
      "cell_type": "code",
      "source": [],
      "metadata": {
        "id": "1aYibzfbF6VK"
      },
      "execution_count": null,
      "outputs": []
    },
    {
      "cell_type": "code",
      "source": [],
      "metadata": {
        "id": "hjw5XirREHt7"
      },
      "execution_count": null,
      "outputs": []
    },
    {
      "cell_type": "code",
      "source": [],
      "metadata": {
        "id": "7zeZ_539EHw9"
      },
      "execution_count": null,
      "outputs": []
    }
  ]
}